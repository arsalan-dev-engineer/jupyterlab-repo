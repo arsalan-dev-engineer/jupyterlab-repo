{
 "cells": [
  {
   "cell_type": "code",
   "execution_count": 10,
   "id": "82f4e26a-2ee0-43df-8d40-ad9ef23f6271",
   "metadata": {},
   "outputs": [],
   "source": [
    "from urllib.request import urlopen\n",
    "from bs4 import BeautifulSoup"
   ]
  },
  {
   "cell_type": "code",
   "execution_count": 13,
   "id": "19e35081-0d03-4ee5-aa89-6def2adaf9e1",
   "metadata": {},
   "outputs": [
    {
     "name": "stdout",
     "output_type": "stream",
     "text": [
      "Inspecting all <a> tags:\n",
      "<a class=\"rounded-circle\" href=\"/\" id=\"avatar\"><img alt=\"avatar\" height=\"112\" onerror=\"this.style.display='none'\" src=\"/../assets/images/profile/profile.jpg\" width=\"112\"/></a>\n",
      "<a href=\"/\">Arsalan</a>\n",
      "<a class=\"nav-link\" href=\"/\"> <i class=\"fa-fw fas fa-home\"></i> <span>HOME</span> </a>\n",
      "<a class=\"nav-link\" href=\"/categories/\"> <i class=\"fa-fw fas fa-stream\"></i> <span>CATEGORIES</span> </a>\n",
      "<a class=\"nav-link\" href=\"/tags/\"> <i class=\"fa-fw fas fa-tags\"></i> <span>TAGS</span> </a>\n",
      "<a class=\"nav-link\" href=\"/about/\"> <i class=\"fa-fw fas fa-info-circle\"></i> <span>ABOUT</span> </a>\n",
      "<a class=\"nav-link\" href=\"/archives/\"> <i class=\"fa-fw fas fa-archive\"></i> <span>ARCHIVES</span> </a>\n",
      "<a aria-label=\"github\" href=\"https://github.com/arsalan-dev-engineer\" rel=\"noopener noreferrer\" target=\"_blank\"> <i class=\"fab fa-github\"></i> </a>\n",
      "<a aria-label=\"twitter\" href=\"https://twitter.com/twitter_username\" rel=\"noopener noreferrer\" target=\"_blank\"> <i class=\"fa-brands fa-x-twitter\"></i> </a>\n",
      "<a aria-label=\"email\" href=\"javascript:location.href = 'mailto:' + ['arsalan.dev.engineer','gmail.com'].join('@')\"> <i class=\"fas fa-envelope\"></i> </a>\n",
      "<a aria-label=\"rss\" href=\"/feed.xml\"> <i class=\"fas fa-rss\"></i> </a>\n",
      "<a class=\"post-preview row g-0 flex-md-row-reverse\" href=\"/posts/azzy-cli/\"><div class=\"col-md-12\"><div class=\"card-body d-flex flex-column\"><h1 class=\"card-title my-2 mt-md-0\">azzy-cli</h1><div class=\"card-text content mt-0 mb-3\"><p>Welcome to Azzy CLI! This command-line interface (CLI) tool is designed to provide a wide range of useful scripts and commands for various tasks. This repository features a collection of tools and ...</p></div><div class=\"post-meta flex-grow-1 d-flex align-items-end\"><div class=\"me-auto\"> <i class=\"far fa-calendar fa-fw me-1\"></i> <time data-df=\"ll\" data-ts=\"1724367600\"> Aug 23, 2024 </time> <i class=\"far fa-folder-open fa-fw me-1\"></i> <span class=\"categories\"> DevOps </span></div></div></div></div></a>\n",
      "<a class=\"post-preview row g-0 flex-md-row-reverse\" href=\"/posts/DevOps-Forge/\"><div class=\"col-md-12\"><div class=\"card-body d-flex flex-column\"><h1 class=\"card-title my-2 mt-md-0\">DevOps-Forge</h1><div class=\"card-text content mt-0 mb-3\"><p>Welcome to the DevOps Projects Repository! We are a team of associate DevOps engineers dedicated to exploring and implementing various cloud-native solutions and technologies. This repository hosts...</p></div><div class=\"post-meta flex-grow-1 d-flex align-items-end\"><div class=\"me-auto\"> <i class=\"far fa-calendar fa-fw me-1\"></i> <time data-df=\"ll\" data-ts=\"1724194800\"> Aug 21, 2024 </time> <i class=\"far fa-folder-open fa-fw me-1\"></i> <span class=\"categories\"> DevOps </span></div></div></div></div></a>\n",
      "<a href=\"/posts/azzy-cli/\">azzy-cli</a>\n",
      "<a href=\"/posts/DevOps-Forge/\">DevOps-Forge</a>\n",
      "<a class=\"post-tag btn btn-outline-primary\" href=\"/tags/bash/\">Bash</a>\n",
      "<a class=\"post-tag btn btn-outline-primary\" href=\"/tags/python/\">Python</a>\n",
      "<a class=\"post-tag btn btn-outline-primary\" href=\"/tags/click/\">Click</a>\n",
      "<a class=\"post-tag btn btn-outline-primary\" href=\"/tags/dockerfile/\">Dockerfile</a>\n",
      "<a class=\"post-tag btn btn-outline-primary\" href=\"/tags/hcl/\">HCL</a>\n",
      "<a href=\"https://twitter.com/username\">Arsalan</a>\n",
      "<a data-bs-placement=\"top\" data-bs-toggle=\"tooltip\" href=\"https://github.com/cotes2020/jekyll-theme-chirpy\" rel=\"noopener\" target=\"_blank\" title=\"v7.0.1\">Chirpy</a>\n",
      "<a href=\"https://jekyllrb.com\" rel=\"noopener\" target=\"_blank\">Jekyll</a>\n",
      "<a class=\"post-tag btn btn-outline-primary\" href=\"/tags/bash/\">Bash</a>\n",
      "<a class=\"post-tag btn btn-outline-primary\" href=\"/tags/python/\">Python</a>\n",
      "<a class=\"post-tag btn btn-outline-primary\" href=\"/tags/click/\">Click</a>\n",
      "<a class=\"post-tag btn btn-outline-primary\" href=\"/tags/dockerfile/\">Dockerfile</a>\n",
      "<a class=\"post-tag btn btn-outline-primary\" href=\"/tags/hcl/\">HCL</a>\n"
     ]
    }
   ],
   "source": [
    "from urllib.request import urlopen\n",
    "from bs4 import BeautifulSoup\n",
    "\n",
    "# Define the URL\n",
    "url = \"https://arsalan-dev-engineer.github.io/\"\n",
    "\n",
    "# Fetch HTML content from the URL\n",
    "response = urlopen(url)\n",
    "html = response.read()\n",
    "\n",
    "# Parse HTML with BeautifulSoup\n",
    "soup = BeautifulSoup(html, \"html.parser\")\n",
    "\n",
    "# Debug: Print out all <a> tags to inspect the structure\n",
    "print(\"Inspecting all <a> tags:\")\n",
    "for a_tag in soup.find_all(\"a\"):\n",
    "    print(a_tag)\n",
    "\n",
    "# Extract and display each post's title and link\n",
    "for post in soup.find_all(\"a\", class_=\"card-wrapper card\"):\n",
    "    title = post.get_text().strip()\n",
    "    link = post[\"href\"]  # Directly access the href attribute\n",
    "    print(f\"Title: {title}\")\n",
    "    print(f\"Link: {link}\")\n",
    "    print(\"-\" * 40)\n"
   ]
  },
  {
   "cell_type": "code",
   "execution_count": null,
   "id": "af797dd9-4858-4c1f-9425-0817774769ce",
   "metadata": {},
   "outputs": [],
   "source": []
  }
 ],
 "metadata": {
  "kernelspec": {
   "display_name": "Python 3 (ipykernel)",
   "language": "python",
   "name": "python3"
  },
  "language_info": {
   "codemirror_mode": {
    "name": "ipython",
    "version": 3
   },
   "file_extension": ".py",
   "mimetype": "text/x-python",
   "name": "python",
   "nbconvert_exporter": "python",
   "pygments_lexer": "ipython3",
   "version": "3.10.12"
  }
 },
 "nbformat": 4,
 "nbformat_minor": 5
}
