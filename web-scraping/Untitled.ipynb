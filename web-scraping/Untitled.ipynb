{
 "cells": [
  {
   "cell_type": "markdown",
   "id": "b922a3d2-13ae-4347-9ce6-d39cdf8e8031",
   "metadata": {},
   "source": [
    "Given an integer as input, can you round it to the next (meaning, \"greater than or equal\") multiple of 5?"
   ]
  },
  {
   "cell_type": "code",
   "execution_count": 27,
   "id": "af797dd9-4858-4c1f-9425-0817774769ce",
   "metadata": {},
   "outputs": [
    {
     "name": "stdout",
     "output_type": "stream",
     "text": [
      "10\n",
      "15\n",
      "20\n"
     ]
    }
   ],
   "source": [
    "def round_to_next5(n):\n",
    "    num = (n // 5) * 5\n",
    "    if num < n:\n",
    "        num += 5\n",
    "    return num\n",
    "\n",
    "print(round_to_next5(7))\n",
    "print(round_to_next5(11))\n",
    "print(round_to_next5(19))"
   ]
  },
  {
   "cell_type": "code",
   "execution_count": null,
   "id": "25b74acd-1be3-4321-b6a9-6cf999b3d14b",
   "metadata": {},
   "outputs": [],
   "source": []
  }
 ],
 "metadata": {
  "kernelspec": {
   "display_name": "Python 3 (ipykernel)",
   "language": "python",
   "name": "python3"
  },
  "language_info": {
   "codemirror_mode": {
    "name": "ipython",
    "version": 3
   },
   "file_extension": ".py",
   "mimetype": "text/x-python",
   "name": "python",
   "nbconvert_exporter": "python",
   "pygments_lexer": "ipython3",
   "version": "3.10.12"
  }
 },
 "nbformat": 4,
 "nbformat_minor": 5
}
