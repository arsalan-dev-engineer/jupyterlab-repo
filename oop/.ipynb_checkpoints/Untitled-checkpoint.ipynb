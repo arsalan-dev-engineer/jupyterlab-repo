{
 "cells": [
  {
   "cell_type": "code",
   "execution_count": 6,
   "id": "d84ccf49-d545-4d5a-b562-51f6e9992382",
   "metadata": {},
   "outputs": [],
   "source": [
    "import random\n",
    "import datetime"
   ]
  },
  {
   "cell_type": "code",
   "execution_count": 7,
   "id": "76ddf0cc-6c78-49aa-a086-5f729962d1c3",
   "metadata": {},
   "outputs": [
    {
     "data": {
      "text/plain": [
       "'arsalan.arref@northumbria.ac.uk'"
      ]
     },
     "execution_count": 7,
     "metadata": {},
     "output_type": "execute_result"
    }
   ],
   "source": [
    "class Student:\n",
    "    def __init__(self, id, first_name, last_name, age, major, enrollment_year):\n",
    "        self.id = []\n",
    "        self.first_name = first_name\n",
    "        self.last_name = last_name\n",
    "        self.age = age\n",
    "        self.major = major\n",
    "        self.enrollment_year = enrollment_year\n",
    "\n",
    "    def generate_id(self):\n",
    "        student_id = random.randint(000000, 999999)\n",
    "        print(student_id)\n",
    "        \n",
    "    def generate_email(self):\n",
    "        email = f\"{self.first_name.lower()}.{self.last_name.lower()}@northumbria.ac.uk\"\n",
    "        return email\n",
    "\n",
    "\n",
    "student1 = Student(43124, \"Arsalan\", \"Arref\", 28, \"Tech\", 2022)\n",
    "student1.generate_email()"
   ]
  },
  {
   "cell_type": "code",
   "execution_count": null,
   "id": "cfcd6d36-0b59-4c70-bc30-ae550d8f9070",
   "metadata": {},
   "outputs": [],
   "source": []
  }
 ],
 "metadata": {
  "kernelspec": {
   "display_name": "Python 3 (ipykernel)",
   "language": "python",
   "name": "python3"
  },
  "language_info": {
   "codemirror_mode": {
    "name": "ipython",
    "version": 3
   },
   "file_extension": ".py",
   "mimetype": "text/x-python",
   "name": "python",
   "nbconvert_exporter": "python",
   "pygments_lexer": "ipython3",
   "version": "3.10.12"
  }
 },
 "nbformat": 4,
 "nbformat_minor": 5
}
